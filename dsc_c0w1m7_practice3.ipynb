{
  "nbformat": 4,
  "nbformat_minor": 0,
  "metadata": {
    "colab": {
      "provenance": []
    },
    "kernelspec": {
      "name": "python3",
      "display_name": "Python 3"
    },
    "language_info": {
      "name": "python"
    }
  },
  "cells": [
    {
      "cell_type": "markdown",
      "source": [
        "# Practice for Inheritance"
      ],
      "metadata": {
        "id": "2cQaS_tkWMO4"
      }
    },
    {
      "cell_type": "markdown",
      "source": [
        "1. Start by creating an abstract superclass, `Animal()`. When your program is complete, all subclasses of `Animal()` will have the following attributes:\n",
        "- `name`, which is a string set at instantiation time\n",
        "- `size`, which can be `small`, `medium`, `large`, or `enormous`\n",
        "- `weight`, which is an integer set at instantiation time\n",
        "- `species`, a string that tells us the species of the animal\n",
        "- `food_type`, which can be `herbivore`, `carnivore`, or `omnivore`\n",
        "- `nocturnal`, a boolean value that is `True` if the animal sleeps during the day, otherwise `False`\n",
        "\n",
        "They'll also have the following behaviors:\n",
        "- `sleep`, which prints a string saying if the animal sleeps during day or night\n",
        "- `eat`, which takes in the string `plants` or `meat`, and returns `{animal name} the {animal species} thinks {food} is yummy` or `I don't eat this` based on the animal's food_type attribute\n",
        "\n",
        "In a python or jupyter notebook file, create an abstract superclass that meets these specifications.\n",
        "\n",
        "Note: For some attributes in an abstract superclass such as `size`, the initial value doesn't matter -- just make sure that you remember to override it in each of the subclasses."
      ],
      "metadata": {
        "id": "ZumJ-JfIWMw8"
      }
    },
    {
      "cell_type": "code",
      "execution_count": 1,
      "metadata": {
        "id": "b2WDEXPvWJ7q"
      },
      "outputs": [],
      "source": [
        "# Your code here, replace none\n",
        "\n",
        "class Animal(object):\n",
        "    None"
      ]
    },
    {
      "cell_type": "markdown",
      "source": [
        "2. In the same file, complete the `Elephant()` class. This class should:\n",
        "- Inherit from `Animal`\n",
        "- have a `species` of `elephant`\n",
        "- have a `size` of `enormous`\n",
        "- have a `food_type` of `herbivore`\n",
        "- set `nocturnal` to `False`\n",
        "\n",
        "Hint: Remember to make use of .super() during initialization, and be sure to pass in the values it expects at instantiation time!"
      ],
      "metadata": {
        "id": "1fy0YF_lXK_t"
      }
    },
    {
      "cell_type": "code",
      "source": [
        "# Your code here, replace none\n",
        "\n",
        "class Elephant(Animal):\n",
        "    None"
      ],
      "metadata": {
        "id": "C6mXiY6IWo42"
      },
      "execution_count": null,
      "outputs": []
    },
    {
      "cell_type": "markdown",
      "source": [
        "3. Now create a `Tiger()` class. This class should:\n",
        "- Inherit from `Animal`\n",
        "- have a `species` of `tiger`\n",
        "- have a `size` of `large`\n",
        "- have a `food_type` of `carnivore`\n",
        "- set `nocturnal` to `True`"
      ],
      "metadata": {
        "id": "FtbBRU_5XPO9"
      }
    },
    {
      "cell_type": "code",
      "source": [
        "# Your code here, replace none\n",
        "\n",
        "class Tiger(Animal):\n",
        "    None"
      ],
      "metadata": {
        "id": "pIbwJMS1XxLx"
      },
      "execution_count": null,
      "outputs": []
    },
    {
      "cell_type": "markdown",
      "source": [
        "4. In the cell below, create a `Raccoon()` class. This class should:\n",
        "- Inherit from `Animal`\n",
        "- have a `species` of `raccoon`\n",
        "- have a `size` of `small`\n",
        "- have a `food_type` of `omnivore`\n",
        "- set `nocturnal` to `True`\n"
      ],
      "metadata": {
        "id": "hHLPWjAZX40K"
      }
    },
    {
      "cell_type": "code",
      "source": [
        "# Your code here, replace none\n",
        "\n",
        "class Raccoon(Animal):\n",
        "    None"
      ],
      "metadata": {
        "id": "vhCMPNxUYT_t"
      },
      "execution_count": null,
      "outputs": []
    },
    {
      "cell_type": "markdown",
      "source": [
        "5. Create a 'Gorilla()' class. This class should:\n",
        "- Inherit from `Animal`\n",
        "- have a `species` of `gorilla`\n",
        "- have a `size` of `large`\n",
        "- have a `food_type` of `herbivore`\n",
        "- set `nocturnal` to `False`"
      ],
      "metadata": {
        "id": "oyzOBPMRYYe8"
      }
    },
    {
      "cell_type": "code",
      "source": [
        "# Your code here, replace none\n",
        "\n",
        "class Gorilla(Animal):\n",
        "    None"
      ],
      "metadata": {
        "id": "OhVDDqvZYsWW"
      },
      "execution_count": null,
      "outputs": []
    },
    {
      "cell_type": "markdown",
      "source": [
        "6. Now it's time to populate the zoo. To ease the creation of animal instances, create a function `add_animal_to_zoo()`. This function should take in the following parameters:\n",
        "- `zoo`, an array/list representing the current animals in the zoo\n",
        "- `animal_type`, a string. Can be `Gorilla`, `Raccoon`, `Tiger`, or `Elephant`\n",
        "- `name`, the name of the animal being created\n",
        "- `weight`, the weight of the animal being created\n",
        "\n",
        "The function should then:\n",
        "- use `animal_type` to determine which object to create\n",
        "- Create an instance of that animal, passing in the `name` and `weight`\n",
        "- Append the newly created animal instance object to `zoo`\n",
        "- Return `zoo`\n"
      ],
      "metadata": {
        "id": "m5XDFLxyYuhC"
      }
    },
    {
      "cell_type": "code",
      "source": [
        "# Your code here, given starter code\n",
        "\n",
        "def add_animal_to_zoo(zoo, animal_type, name, weight):\n",
        "    pass"
      ],
      "metadata": {
        "id": "2IjCySZaY-ki"
      },
      "execution_count": null,
      "outputs": []
    },
    {
      "cell_type": "markdown",
      "source": [
        "7. Create the following animals and add them to your zoo. The names and weights are up to you.\n",
        "- 2 Elephants\n",
        "- 2 Raccoons\n",
        "- 1 Gorilla\n",
        "- 3 Tigers\n",
        "Great! Now that you have a populated zoo, you can do what the zookeeper hired you to do -- write a program that feeds the correct animals the right food at the right times."
      ],
      "metadata": {
        "id": "_lDAX3OsZb5s"
      }
    },
    {
      "cell_type": "code",
      "source": [
        "# Your code here"
      ],
      "metadata": {
        "id": "B-JyaI-YZieJ"
      },
      "execution_count": null,
      "outputs": []
    },
    {
      "cell_type": "markdown",
      "source": [
        "8. To do this, write a function called `feed_animals()`. This function should take in two arguments:\n",
        "- `zoo`, the zoo array containing all the animals\n",
        "- `time`, which can be `Day` or `Night`. This should default to day if nothing is entered for `time`\n",
        "\n",
        "This function should:\n",
        "- Feed only the non-nocturnal animals if `time='Day'`, or only the nocturnal animals if `time='Night'`\n",
        "- Check the food type of each animal before feeding. If the animal is a carnivore, feed it `meat`; otherwise, feed it `plants`. Feed the animals by using their `.eat()` method\n",
        "\n",
        "Hint:\n",
        "- Make sure consider the proper nesting of if statements\n",
        " - Need to first check time\n",
        " - Then if animal is nocturnal\n",
        " - Then check what type of food animal eats\n",
        "- Loop through each animal if the newly created list of animal objects\n",
        "\n",
        "Make sure to test this program."
      ],
      "metadata": {
        "id": "9Zn6CJGtZjCs"
      }
    },
    {
      "cell_type": "code",
      "source": [
        "# Your code here, given starter code\n",
        "\n",
        "def feed_animals(zoo, time='Day'):\n",
        "    pass"
      ],
      "metadata": {
        "id": "Flf1f5ruZ7rh"
      },
      "execution_count": null,
      "outputs": []
    }
  ]
}