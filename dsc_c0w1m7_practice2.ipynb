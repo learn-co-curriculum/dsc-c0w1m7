{
  "nbformat": 4,
  "nbformat_minor": 0,
  "metadata": {
    "colab": {
      "provenance": []
    },
    "kernelspec": {
      "name": "python3",
      "display_name": "Python 3"
    },
    "language_info": {
      "name": "python"
    }
  },
  "cells": [
    {
      "cell_type": "markdown",
      "source": [
        "# Practice for Methods and Attributes of Classes"
      ],
      "metadata": {
        "id": "BmY2xRN-UC-f"
      }
    },
    {
      "cell_type": "markdown",
      "source": [
        "1. Define the `Student` class:\n",
        "- Implement the `int` method to initialize the attributes of a student: name, student ID, major, year of study, and an empty dictionary of enrolled courses and the students grade: {‘course_name’:grade}"
      ],
      "metadata": {
        "id": "BhqxU5L8UDnp"
      }
    },
    {
      "cell_type": "code",
      "execution_count": null,
      "metadata": {
        "id": "CMteFd7iUADf"
      },
      "outputs": [],
      "source": [
        "# Your code here"
      ]
    },
    {
      "cell_type": "markdown",
      "source": [
        "2. Implement the `display_info()` method:\n",
        "- Define a method named `display_info()` within the `Student` class.\n",
        "- This method should print the student's name, student ID, major, year of study, and the list of enrolled courses.\n"
      ],
      "metadata": {
        "id": "6h8pobQ7UXxR"
      }
    },
    {
      "cell_type": "code",
      "source": [
        "# Your code here"
      ],
      "metadata": {
        "id": "ZgoIEde4UjlK"
      },
      "execution_count": null,
      "outputs": []
    },
    {
      "cell_type": "markdown",
      "source": [
        "3. Implement the `add_course()` and `remove_course()` methods:\n",
        "- Define methods named `add_course()` and `remove_course()` within the Student class.\n",
        "- The `add_course()` method should take a course name and a grade as a parameter and incorporate it into the dictionary.\n",
        "- The `remove_course()` method should take a course name as a parameter and remove it from the dictionary."
      ],
      "metadata": {
        "id": "dLX3IjnjUjs2"
      }
    },
    {
      "cell_type": "code",
      "source": [
        "# Your code here"
      ],
      "metadata": {
        "id": "ZtufNeCQU3S8"
      },
      "execution_count": null,
      "outputs": []
    },
    {
      "cell_type": "markdown",
      "source": [
        "4. Implement the `calculate_gpa()` method:\n",
        "- Define a method named `calculate_gpa()` within the Student class.\n",
        "- This method should calculate the student's GPA based on the grades received in their enrolled courses.\n",
        "- Assume that the grades are stored as a dictionary where the course names are the keys and the grades (on a 4.0 scale) are the values.\n",
        "- The method should return the calculated GPA.\n"
      ],
      "metadata": {
        "id": "D-niufDrU34n"
      }
    },
    {
      "cell_type": "code",
      "source": [
        "# Your code here"
      ],
      "metadata": {
        "id": "0XZBlqKoVB8d"
      },
      "execution_count": null,
      "outputs": []
    },
    {
      "cell_type": "markdown",
      "source": [
        "5. Implement the `academic_standing()` method:\n",
        "- Define a method named `academic_standing()` within the `Student` class.\n",
        "- This method should determine the student's academic standing based on their GPA.\n",
        "- Use conditional statements to assign the appropriate standing (e.g., \"Good Standing\" for GPA >= 3.0, \"Academic Probation\" for GPA < 2.0).\n",
        "- The method should return the academic standing.\n"
      ],
      "metadata": {
        "id": "xXIHFtzJVCYs"
      }
    },
    {
      "cell_type": "code",
      "source": [
        "# Your code here"
      ],
      "metadata": {
        "id": "CZVeHCCwVOm2"
      },
      "execution_count": null,
      "outputs": []
    },
    {
      "cell_type": "markdown",
      "source": [
        "6. Create instances of the `Student` class:\n",
        "- Create a few instances of the `Student` class, initializing them with appropriate attribute values."
      ],
      "metadata": {
        "id": "625IGK-DVPOe"
      }
    },
    {
      "cell_type": "code",
      "source": [
        "# Your code here"
      ],
      "metadata": {
        "id": "0m6mNqkkVXqw"
      },
      "execution_count": null,
      "outputs": []
    },
    {
      "cell_type": "markdown",
      "source": [
        "7. Test the implemented methods:\n",
        "- Call the `display_info()` method on each student instance to display their information.\n",
        "- Use the `add_course()` and `remove_course()` methods to modify the enrolled courses for each student.\n",
        "- Call the `calculate_gpa()` method on each student instance and print their GPA. You will need to create grade dictionaries for each student.\n",
        "- Call the `academic_standing()` method on each student instance and print their academic standing."
      ],
      "metadata": {
        "id": "pZTSlZ7MVWWd"
      }
    },
    {
      "cell_type": "code",
      "source": [
        "# Your code here"
      ],
      "metadata": {
        "id": "J3PQ41EJVnlf"
      },
      "execution_count": null,
      "outputs": []
    },
    {
      "cell_type": "markdown",
      "source": [
        "8. Verify the results:\n",
        "- Check the output to ensure that the student information is displayed correctly, courses are added and removed accurately, GPA is calculated properly, and academic standing is determined based on the GPA.\n"
      ],
      "metadata": {
        "id": "RHfNcjL5Vr1k"
      }
    },
    {
      "cell_type": "code",
      "source": [
        "# Your code here"
      ],
      "metadata": {
        "id": "xaUsLcbVV2OQ"
      },
      "execution_count": null,
      "outputs": []
    }
  ]
}