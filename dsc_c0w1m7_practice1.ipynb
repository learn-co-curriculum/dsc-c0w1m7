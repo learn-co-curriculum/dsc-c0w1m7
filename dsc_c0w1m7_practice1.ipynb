{
  "nbformat": 4,
  "nbformat_minor": 0,
  "metadata": {
    "colab": {
      "provenance": []
    },
    "kernelspec": {
      "name": "python3",
      "display_name": "Python 3"
    },
    "language_info": {
      "name": "python"
    }
  },
  "cells": [
    {
      "cell_type": "markdown",
      "source": [
        "# Practice for Creating Classes"
      ],
      "metadata": {
        "id": "0szqiqLVQ4rD"
      }
    },
    {
      "cell_type": "markdown",
      "source": [
        "1. Create a python file `ride.py` and inside of it define the `Ride` class\n",
        "- We won’t give it any code internally so make sure to use `pass`"
      ],
      "metadata": {
        "id": "Jgx57_nrRAKC"
      }
    },
    {
      "cell_type": "code",
      "execution_count": null,
      "metadata": {
        "id": "vD9EgtR5QysW"
      },
      "outputs": [],
      "source": [
        "# Your code here\n",
        "\n",
        "# Define the ride class"
      ]
    },
    {
      "cell_type": "markdown",
      "source": [
        "2. Create a separate python file `driver.py` and define a [Drive](https://)r class the same way.\n",
        "\n",
        "By convention, Python programmers use CamelCase to name the class. Also, you can't create an \"empty\" class. At the least, you need to specify the `pass` keyword to ensure the class definition is syntactically valid."
      ],
      "metadata": {
        "id": "LQ00b5GCRHl-"
      }
    },
    {
      "cell_type": "code",
      "source": [
        "# Your code here\n",
        "\n",
        "# Define the driver class"
      ],
      "metadata": {
        "id": "eSq3mF0gRObe"
      },
      "execution_count": null,
      "outputs": []
    },
    {
      "cell_type": "markdown",
      "source": [
        "3. In a new file within your folder you can import the classes from those files, i.e.\n",
        "- import the entire file\n",
        "- import only the `Ride` class\n",
        "- import only the `Driver` class"
      ],
      "metadata": {
        "id": "i8_1-uqRROr1"
      }
    },
    {
      "cell_type": "code",
      "source": [
        "# Your code here"
      ],
      "metadata": {
        "id": "q51hEJdQRWro"
      },
      "execution_count": null,
      "outputs": []
    },
    {
      "cell_type": "markdown",
      "source": [
        "4. Create a Passenger class that doesn't contain anything within your new file"
      ],
      "metadata": {
        "id": "Z71NGgyVRjHS"
      }
    },
    {
      "cell_type": "code",
      "source": [
        "# Your code here"
      ],
      "metadata": {
        "id": "8eY54mTHRuUg"
      },
      "execution_count": null,
      "outputs": []
    },
    {
      "cell_type": "markdown",
      "source": [
        "5. Now practice using these classes to create instances. First, make two instances of the Passenger class and assign them to the variables `meryl` and `daniel`, respectively. You can use the starter code below and replace None with the appropriate code."
      ],
      "metadata": {
        "id": "2oKGokOvRueS"
      }
    },
    {
      "cell_type": "code",
      "source": [
        "# Your code here"
      ],
      "metadata": {
        "id": "G85tMDXkTLXx"
      },
      "execution_count": null,
      "outputs": []
    },
    {
      "cell_type": "markdown",
      "source": [
        "6. Next, make one instance of the `Driver` class and assign it to the variable, `flatiron_taxi`. Print to verify."
      ],
      "metadata": {
        "id": "BA3NdQjHTPGa"
      }
    },
    {
      "cell_type": "code",
      "source": [
        "# Your code here"
      ],
      "metadata": {
        "id": "NqaEJ-H_TUTj"
      },
      "execution_count": null,
      "outputs": []
    },
    {
      "cell_type": "markdown",
      "source": [
        "7. Make two instances of the `Ride` class and assign them to `ride_to_school` and `ride_home`. Print to verify."
      ],
      "metadata": {
        "id": "kPNFb9P4TY-w"
      }
    },
    {
      "cell_type": "code",
      "source": [
        "# Your code here"
      ],
      "metadata": {
        "id": "uYPkrS4lTgl8"
      },
      "execution_count": null,
      "outputs": []
    }
  ]
}